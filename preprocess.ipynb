{
 "cells": [
  {
   "cell_type": "code",
   "execution_count": 183,
   "metadata": {},
   "outputs": [
    {
     "name": "stdout",
     "output_type": "stream",
     "text": [
      "Requirement already satisfied: pandas in d:\\uni\\4th year\\2nd sem\\bis\\assignment 2\\env\\lib\\site-packages (2.2.3)\n",
      "Requirement already satisfied: seaborn in d:\\uni\\4th year\\2nd sem\\bis\\assignment 2\\env\\lib\\site-packages (0.13.2)\n",
      "Requirement already satisfied: matplotlib in d:\\uni\\4th year\\2nd sem\\bis\\assignment 2\\env\\lib\\site-packages (3.10.0)\n",
      "Requirement already satisfied: numpy>=1.23.2 in d:\\uni\\4th year\\2nd sem\\bis\\assignment 2\\env\\lib\\site-packages (from pandas) (2.2.3)\n",
      "Requirement already satisfied: python-dateutil>=2.8.2 in d:\\uni\\4th year\\2nd sem\\bis\\assignment 2\\env\\lib\\site-packages (from pandas) (2.9.0.post0)\n",
      "Requirement already satisfied: pytz>=2020.1 in d:\\uni\\4th year\\2nd sem\\bis\\assignment 2\\env\\lib\\site-packages (from pandas) (2025.1)\n",
      "Requirement already satisfied: tzdata>=2022.7 in d:\\uni\\4th year\\2nd sem\\bis\\assignment 2\\env\\lib\\site-packages (from pandas) (2025.1)\n",
      "Requirement already satisfied: contourpy>=1.0.1 in d:\\uni\\4th year\\2nd sem\\bis\\assignment 2\\env\\lib\\site-packages (from matplotlib) (1.3.1)\n",
      "Requirement already satisfied: cycler>=0.10 in d:\\uni\\4th year\\2nd sem\\bis\\assignment 2\\env\\lib\\site-packages (from matplotlib) (0.12.1)\n",
      "Requirement already satisfied: fonttools>=4.22.0 in d:\\uni\\4th year\\2nd sem\\bis\\assignment 2\\env\\lib\\site-packages (from matplotlib) (4.56.0)\n",
      "Requirement already satisfied: kiwisolver>=1.3.1 in d:\\uni\\4th year\\2nd sem\\bis\\assignment 2\\env\\lib\\site-packages (from matplotlib) (1.4.8)\n",
      "Requirement already satisfied: packaging>=20.0 in d:\\uni\\4th year\\2nd sem\\bis\\assignment 2\\env\\lib\\site-packages (from matplotlib) (24.2)\n",
      "Requirement already satisfied: pillow>=8 in d:\\uni\\4th year\\2nd sem\\bis\\assignment 2\\env\\lib\\site-packages (from matplotlib) (11.1.0)\n",
      "Requirement already satisfied: pyparsing>=2.3.1 in d:\\uni\\4th year\\2nd sem\\bis\\assignment 2\\env\\lib\\site-packages (from matplotlib) (3.2.1)\n",
      "Requirement already satisfied: six>=1.5 in d:\\uni\\4th year\\2nd sem\\bis\\assignment 2\\env\\lib\\site-packages (from python-dateutil>=2.8.2->pandas) (1.17.0)\n"
     ]
    },
    {
     "name": "stderr",
     "output_type": "stream",
     "text": [
      "\n",
      "[notice] A new release of pip available: 22.3 -> 25.0.1\n",
      "[notice] To update, run: python.exe -m pip install --upgrade pip\n"
     ]
    }
   ],
   "source": [
    "!pip install pandas seaborn matplotlib"
   ]
  },
  {
   "cell_type": "code",
   "execution_count": 184,
   "metadata": {},
   "outputs": [
    {
     "data": {
      "text/plain": [
       "True"
      ]
     },
     "execution_count": 184,
     "metadata": {},
     "output_type": "execute_result"
    }
   ],
   "source": [
    "import os\n",
    "from dotenv import load_dotenv\n",
    "\n",
    "# Load environment variables from .env file\n",
    "load_dotenv()"
   ]
  },
  {
   "cell_type": "markdown",
   "metadata": {},
   "source": [
    "### Download dataset from KaggleHub and load into a dataframe"
   ]
  },
  {
   "cell_type": "code",
   "execution_count": 185,
   "metadata": {},
   "outputs": [],
   "source": [
    "KAGGLE_USERNAME = os.getenv(\"KAGGLE_USERNAME\")\n",
    "KAGGLE_KEY = os.getenv(\"KAGGLE_KEY\")"
   ]
  },
  {
   "cell_type": "code",
   "execution_count": 186,
   "metadata": {},
   "outputs": [],
   "source": [
    "os.environ['KAGGLE_USERNAME'] = KAGGLE_USERNAME\n",
    "os.environ['KAGGLE_KEY'] = KAGGLE_KEY"
   ]
  },
  {
   "cell_type": "code",
   "execution_count": 187,
   "metadata": {},
   "outputs": [],
   "source": [
    "import kagglehub\n",
    "from kagglehub import KaggleDatasetAdapter\n",
    "\n",
    "# download dataset from kaggle and load it to a dataframe\n",
    "df = kagglehub.load_dataset(\n",
    "     KaggleDatasetAdapter.PANDAS,\n",
    "     \"alikalwar/uae-used-car-prices-and-features-10k-listings\",\n",
    "     \"uae_used_cars_10k.csv\",\n",
    ")"
   ]
  },
  {
   "cell_type": "code",
   "execution_count": 188,
   "metadata": {},
   "outputs": [
    {
     "data": {
      "text/html": [
       "<div>\n",
       "<style scoped>\n",
       "    .dataframe tbody tr th:only-of-type {\n",
       "        vertical-align: middle;\n",
       "    }\n",
       "\n",
       "    .dataframe tbody tr th {\n",
       "        vertical-align: top;\n",
       "    }\n",
       "\n",
       "    .dataframe thead th {\n",
       "        text-align: right;\n",
       "    }\n",
       "</style>\n",
       "<table border=\"1\" class=\"dataframe\">\n",
       "  <thead>\n",
       "    <tr style=\"text-align: right;\">\n",
       "      <th></th>\n",
       "      <th>Make</th>\n",
       "      <th>Model</th>\n",
       "      <th>Year</th>\n",
       "      <th>Price</th>\n",
       "      <th>Mileage</th>\n",
       "      <th>Body Type</th>\n",
       "      <th>Cylinders</th>\n",
       "      <th>Transmission</th>\n",
       "      <th>Fuel Type</th>\n",
       "      <th>Color</th>\n",
       "      <th>Location</th>\n",
       "      <th>Description</th>\n",
       "    </tr>\n",
       "  </thead>\n",
       "  <tbody>\n",
       "    <tr>\n",
       "      <th>0</th>\n",
       "      <td>toyota</td>\n",
       "      <td>camry</td>\n",
       "      <td>2016</td>\n",
       "      <td>47819</td>\n",
       "      <td>156500</td>\n",
       "      <td>Sedan</td>\n",
       "      <td>4</td>\n",
       "      <td>Automatic Transmission</td>\n",
       "      <td>Gasoline</td>\n",
       "      <td>Black</td>\n",
       "      <td>Dubai</td>\n",
       "      <td>2016 toyota camry with Rear camera, Leather se...</td>\n",
       "    </tr>\n",
       "    <tr>\n",
       "      <th>1</th>\n",
       "      <td>kia</td>\n",
       "      <td>sorento</td>\n",
       "      <td>2013</td>\n",
       "      <td>61250</td>\n",
       "      <td>169543</td>\n",
       "      <td>SUV</td>\n",
       "      <td>4</td>\n",
       "      <td>Automatic Transmission</td>\n",
       "      <td>Gasoline</td>\n",
       "      <td>Grey</td>\n",
       "      <td>Abu Dhabi</td>\n",
       "      <td>2013 kia sorento with Sunroof, Adaptive cruise...</td>\n",
       "    </tr>\n",
       "    <tr>\n",
       "      <th>2</th>\n",
       "      <td>mini</td>\n",
       "      <td>cooper</td>\n",
       "      <td>2023</td>\n",
       "      <td>31861</td>\n",
       "      <td>221583</td>\n",
       "      <td>Soft Top Convertible</td>\n",
       "      <td>4</td>\n",
       "      <td>Automatic Transmission</td>\n",
       "      <td>Gasoline</td>\n",
       "      <td>Grey</td>\n",
       "      <td>Dubai</td>\n",
       "      <td>2023 mini cooper with Adaptive cruise control,...</td>\n",
       "    </tr>\n",
       "    <tr>\n",
       "      <th>3</th>\n",
       "      <td>nissan</td>\n",
       "      <td>altima</td>\n",
       "      <td>2016</td>\n",
       "      <td>110322</td>\n",
       "      <td>69754</td>\n",
       "      <td>Sedan</td>\n",
       "      <td>4</td>\n",
       "      <td>Automatic Transmission</td>\n",
       "      <td>Gasoline</td>\n",
       "      <td>Red</td>\n",
       "      <td>Dubai</td>\n",
       "      <td>2016 nissan altima with Rear camera, Adaptive ...</td>\n",
       "    </tr>\n",
       "    <tr>\n",
       "      <th>4</th>\n",
       "      <td>toyota</td>\n",
       "      <td>land-cruiser-76-series</td>\n",
       "      <td>2020</td>\n",
       "      <td>139994</td>\n",
       "      <td>71399</td>\n",
       "      <td>Pick Up Truck</td>\n",
       "      <td>4</td>\n",
       "      <td>Manual Transmission</td>\n",
       "      <td>Gasoline</td>\n",
       "      <td>White</td>\n",
       "      <td>Dubai</td>\n",
       "      <td>2020 toyota land-cruiser-76-series with Adapti...</td>\n",
       "    </tr>\n",
       "  </tbody>\n",
       "</table>\n",
       "</div>"
      ],
      "text/plain": [
       "     Make                   Model  Year   Price  Mileage  \\\n",
       "0  toyota                   camry  2016   47819   156500   \n",
       "1     kia                 sorento  2013   61250   169543   \n",
       "2    mini                  cooper  2023   31861   221583   \n",
       "3  nissan                  altima  2016  110322    69754   \n",
       "4  toyota  land-cruiser-76-series  2020  139994    71399   \n",
       "\n",
       "              Body Type Cylinders            Transmission Fuel Type  Color  \\\n",
       "0                 Sedan         4  Automatic Transmission  Gasoline  Black   \n",
       "1                   SUV         4  Automatic Transmission  Gasoline   Grey   \n",
       "2  Soft Top Convertible         4  Automatic Transmission  Gasoline   Grey   \n",
       "3                 Sedan         4  Automatic Transmission  Gasoline    Red   \n",
       "4         Pick Up Truck         4     Manual Transmission  Gasoline  White   \n",
       "\n",
       "     Location                                        Description  \n",
       "0       Dubai  2016 toyota camry with Rear camera, Leather se...  \n",
       "1   Abu Dhabi  2013 kia sorento with Sunroof, Adaptive cruise...  \n",
       "2       Dubai  2023 mini cooper with Adaptive cruise control,...  \n",
       "3       Dubai  2016 nissan altima with Rear camera, Adaptive ...  \n",
       "4       Dubai  2020 toyota land-cruiser-76-series with Adapti...  "
      ]
     },
     "execution_count": 188,
     "metadata": {},
     "output_type": "execute_result"
    }
   ],
   "source": [
    "df.head()"
   ]
  },
  {
   "cell_type": "code",
   "execution_count": 189,
   "metadata": {},
   "outputs": [
    {
     "name": "stdout",
     "output_type": "stream",
     "text": [
      "dataset has 10000 data records\n"
     ]
    }
   ],
   "source": [
    "no_of_car_listings = len(df)\n",
    "print(f\"dataset has {no_of_car_listings} data records\")"
   ]
  },
  {
   "cell_type": "markdown",
   "metadata": {},
   "source": [
    "### Analyze the dataset before pre processing"
   ]
  },
  {
   "cell_type": "code",
   "execution_count": 190,
   "metadata": {},
   "outputs": [
    {
     "name": "stdout",
     "output_type": "stream",
     "text": [
      "<-------------- features of dataset ---------------------------->\n",
      "<class 'pandas.core.frame.DataFrame'>\n",
      "RangeIndex: 10000 entries, 0 to 9999\n",
      "Data columns (total 12 columns):\n",
      " #   Column        Non-Null Count  Dtype \n",
      "---  ------        --------------  ----- \n",
      " 0   Make          10000 non-null  object\n",
      " 1   Model         10000 non-null  object\n",
      " 2   Year          10000 non-null  int64 \n",
      " 3   Price         10000 non-null  int64 \n",
      " 4   Mileage       10000 non-null  int64 \n",
      " 5   Body Type     10000 non-null  object\n",
      " 6   Cylinders     9895 non-null   object\n",
      " 7   Transmission  10000 non-null  object\n",
      " 8   Fuel Type     10000 non-null  object\n",
      " 9   Color         10000 non-null  object\n",
      " 10  Location      10000 non-null  object\n",
      " 11  Description   10000 non-null  object\n",
      "dtypes: int64(3), object(9)\n",
      "memory usage: 937.6+ KB\n",
      "None\n",
      "<-------------- statistical summary of numerical features ---------------------------->\n",
      "               Year         Price        Mileage\n",
      "count  10000.000000  1.000000e+04   10000.000000\n",
      "mean    2014.472800  2.452345e+05  155161.871700\n",
      "std        5.790839  4.709773e+05   83681.858983\n",
      "min     2005.000000  7.183000e+03   10006.000000\n",
      "25%     2009.000000  5.035250e+04   82904.000000\n",
      "50%     2014.000000  1.027660e+05  154370.500000\n",
      "75%     2019.000000  2.312480e+05  227551.250000\n",
      "max     2024.000000  1.468698e+07  299996.000000\n"
     ]
    }
   ],
   "source": [
    "# Analyze dataset features\n",
    "print(\"<-------------- features of dataset ---------------------------->\")\n",
    "print(df.info())\n",
    "\n",
    "# get statistical summary of the numerical features before pre-process\n",
    "print(\"<-------------- statistical summary of numerical features ---------------------------->\")\n",
    "print(df.describe())"
   ]
  },
  {
   "cell_type": "code",
   "execution_count": 191,
   "metadata": {},
   "outputs": [
    {
     "name": "stdout",
     "output_type": "stream",
     "text": [
      "Numerical Features:\n",
      "Year\n",
      "Price\n",
      "Mileage\n",
      "Categorical Features:\n",
      "Make\n",
      "Model\n",
      "Body Type\n",
      "Cylinders\n",
      "Transmission\n",
      "Fuel Type\n",
      "Color\n",
      "Location\n",
      "Description\n"
     ]
    }
   ],
   "source": [
    "# identify categorical and numerical features\n",
    "numerical_features = df.select_dtypes(include=['int64', 'float64']).columns\n",
    "print(\"Numerical Features:\")\n",
    "for n in numerical_features:\n",
    "     print(n)\n",
    "     \n",
    "categorical_features = df.select_dtypes(include=['object', 'category']).columns\n",
    "print(\"Categorical Features:\")\n",
    "for c in categorical_features:\n",
    "     print(c)"
   ]
  },
  {
   "cell_type": "code",
   "execution_count": 192,
   "metadata": {},
   "outputs": [
    {
     "name": "stdout",
     "output_type": "stream",
     "text": [
      "Value counts for Make:\n",
      "Make\n",
      "mercedes-benz    1486\n",
      "nissan            925\n",
      "toyota            893\n",
      "bmw               698\n",
      "ford              541\n",
      "                 ... \n",
      "gac                 1\n",
      "haval               1\n",
      "baic                1\n",
      "smart               1\n",
      "morgan              1\n",
      "Name: count, Length: 65, dtype: int64\n",
      "\n",
      "\n",
      "Value counts for Model:\n",
      "Model\n",
      "patrol               386\n",
      "s-class              288\n",
      "g-class              257\n",
      "land-cruiser         208\n",
      "range-rover-sport    198\n",
      "                    ... \n",
      "centennial             1\n",
      "aero-8                 1\n",
      "dtsde-ville            1\n",
      "trailblazer            1\n",
      "ct5                    1\n",
      "Name: count, Length: 488, dtype: int64\n",
      "\n",
      "\n",
      "Value counts for Body Type:\n",
      "Body Type\n",
      "SUV                     4607\n",
      "Sedan                   2790\n",
      "Coupe                    837\n",
      "Pick Up Truck            432\n",
      "Hatchback                334\n",
      "Sports Car               270\n",
      "Van                      143\n",
      "Hard Top Convertible     139\n",
      "Crossover                136\n",
      "Soft Top Convertible     120\n",
      "Other                    114\n",
      "Wagon                     44\n",
      "Utility Truck             34\n",
      "Name: count, dtype: int64\n",
      "\n",
      "\n",
      "Value counts for Cylinders:\n",
      "Cylinders\n",
      "6          3420\n",
      "8          3003\n",
      "4          2929\n",
      "12          340\n",
      "3            53\n",
      "5            52\n",
      "Unknown      50\n",
      "10           48\n",
      "Name: count, dtype: int64\n",
      "\n",
      "\n",
      "Value counts for Transmission:\n",
      "Transmission\n",
      "Automatic Transmission    9626\n",
      "Manual Transmission        374\n",
      "Name: count, dtype: int64\n",
      "\n",
      "\n",
      "Value counts for Fuel Type:\n",
      "Fuel Type\n",
      "Gasoline    9714\n",
      "Diesel       153\n",
      "Electric     110\n",
      "Hybrid        23\n",
      "Name: count, dtype: int64\n",
      "\n",
      "\n",
      "Value counts for Color:\n",
      "Color\n",
      "White          3355\n",
      "Black          2126\n",
      "Grey           1307\n",
      "Silver          866\n",
      "Blue            686\n",
      "Red             635\n",
      "Gold            238\n",
      "Brown           235\n",
      "Green           154\n",
      "Other Color      78\n",
      "Burgundy         78\n",
      "Beige            75\n",
      "Yellow           67\n",
      "Orange           57\n",
      "Purple           26\n",
      "Teal             11\n",
      "Tan               6\n",
      "Name: count, dtype: int64\n",
      "\n",
      "\n",
      "Value counts for Location:\n",
      "Location\n",
      " Dubai             7990\n",
      " Sharjah            968\n",
      " Abu Dhabi          680\n",
      " Ajman              163\n",
      "Abu Dhabi            52\n",
      " Al Ain              36\n",
      "Sharjah              31\n",
      "Dubai                21\n",
      " Ras Al Khaimah      16\n",
      "Ajman                11\n",
      "Al Ain               11\n",
      " Fujeirah             8\n",
      " Umm Al Qawain        8\n",
      "Umm Al Qawain         2\n",
      "Ras Al Khaimah        2\n",
      "Fujeirah              1\n",
      "Name: count, dtype: int64\n",
      "\n",
      "\n",
      "Value counts for Description:\n",
      "Description\n",
      "2021 mercedes-benz s-class with Bluetooth, Navigation system. Condition: Engine repaired.                                 2\n",
      "2011 land-rover range-rover with Navigation system, Rear camera. Condition: Engine repaired.                              2\n",
      "2022 nissan patrol with Navigation system, Leather seats, Bluetooth. Condition: Minor scratches.                          2\n",
      "2006 toyota highlander with Navigation system, Rear camera. Condition: Accident history.                                  2\n",
      "2020 nissan patrol with Leather seats, Adaptive cruise control, Sunroof. Condition: No damage.                            2\n",
      "                                                                                                                         ..\n",
      "2020 toyota land-cruiser with Sunroof, Navigation system, Bluetooth. Condition: Dented door.                              1\n",
      "2016 mclaren elva with Rear camera, Navigation system, Bluetooth, Adaptive cruise control. Condition: Engine repaired.    1\n",
      "2008 bmw 5-series with Sunroof, Adaptive cruise control, Rear camera, Navigation system. Condition: Dented door.          1\n",
      "2011 ford mustang with Sunroof, Navigation system. Condition: Dented door.                                                1\n",
      "2006 mazda 6 with Sunroof, Adaptive cruise control, Navigation system, Bluetooth. Condition: No damage.                   1\n",
      "Name: count, Length: 9985, dtype: int64\n",
      "\n",
      "\n"
     ]
    }
   ],
   "source": [
    "# Analyze the frequency of categories in categorical features\n",
    "for col in categorical_features:\n",
    "     print(f\"Value counts for {col}:\")\n",
    "     print(df[col].value_counts())\n",
    "     print(\"\\n\")"
   ]
  },
  {
   "cell_type": "markdown",
   "metadata": {},
   "source": [
    "### Remove irrelevant features"
   ]
  },
  {
   "cell_type": "code",
   "execution_count": null,
   "metadata": {},
   "outputs": [
    {
     "data": {
      "text/html": [
       "<div>\n",
       "<style scoped>\n",
       "    .dataframe tbody tr th:only-of-type {\n",
       "        vertical-align: middle;\n",
       "    }\n",
       "\n",
       "    .dataframe tbody tr th {\n",
       "        vertical-align: top;\n",
       "    }\n",
       "\n",
       "    .dataframe thead th {\n",
       "        text-align: right;\n",
       "    }\n",
       "</style>\n",
       "<table border=\"1\" class=\"dataframe\">\n",
       "  <thead>\n",
       "    <tr style=\"text-align: right;\">\n",
       "      <th></th>\n",
       "      <th>Make</th>\n",
       "      <th>Model</th>\n",
       "      <th>Year</th>\n",
       "      <th>Price</th>\n",
       "      <th>Mileage</th>\n",
       "      <th>Body Type</th>\n",
       "      <th>Cylinders</th>\n",
       "      <th>Transmission</th>\n",
       "      <th>Fuel Type</th>\n",
       "      <th>Color</th>\n",
       "    </tr>\n",
       "  </thead>\n",
       "  <tbody>\n",
       "    <tr>\n",
       "      <th>0</th>\n",
       "      <td>toyota</td>\n",
       "      <td>camry</td>\n",
       "      <td>2016</td>\n",
       "      <td>47819</td>\n",
       "      <td>156500</td>\n",
       "      <td>Sedan</td>\n",
       "      <td>4</td>\n",
       "      <td>Automatic Transmission</td>\n",
       "      <td>Gasoline</td>\n",
       "      <td>Black</td>\n",
       "    </tr>\n",
       "    <tr>\n",
       "      <th>1</th>\n",
       "      <td>kia</td>\n",
       "      <td>sorento</td>\n",
       "      <td>2013</td>\n",
       "      <td>61250</td>\n",
       "      <td>169543</td>\n",
       "      <td>SUV</td>\n",
       "      <td>4</td>\n",
       "      <td>Automatic Transmission</td>\n",
       "      <td>Gasoline</td>\n",
       "      <td>Grey</td>\n",
       "    </tr>\n",
       "    <tr>\n",
       "      <th>2</th>\n",
       "      <td>mini</td>\n",
       "      <td>cooper</td>\n",
       "      <td>2023</td>\n",
       "      <td>31861</td>\n",
       "      <td>221583</td>\n",
       "      <td>Soft Top Convertible</td>\n",
       "      <td>4</td>\n",
       "      <td>Automatic Transmission</td>\n",
       "      <td>Gasoline</td>\n",
       "      <td>Grey</td>\n",
       "    </tr>\n",
       "    <tr>\n",
       "      <th>3</th>\n",
       "      <td>nissan</td>\n",
       "      <td>altima</td>\n",
       "      <td>2016</td>\n",
       "      <td>110322</td>\n",
       "      <td>69754</td>\n",
       "      <td>Sedan</td>\n",
       "      <td>4</td>\n",
       "      <td>Automatic Transmission</td>\n",
       "      <td>Gasoline</td>\n",
       "      <td>Red</td>\n",
       "    </tr>\n",
       "    <tr>\n",
       "      <th>4</th>\n",
       "      <td>toyota</td>\n",
       "      <td>land-cruiser-76-series</td>\n",
       "      <td>2020</td>\n",
       "      <td>139994</td>\n",
       "      <td>71399</td>\n",
       "      <td>Pick Up Truck</td>\n",
       "      <td>4</td>\n",
       "      <td>Manual Transmission</td>\n",
       "      <td>Gasoline</td>\n",
       "      <td>White</td>\n",
       "    </tr>\n",
       "  </tbody>\n",
       "</table>\n",
       "</div>"
      ],
      "text/plain": [
       "     Make                   Model  Year   Price  Mileage  \\\n",
       "0  toyota                   camry  2016   47819   156500   \n",
       "1     kia                 sorento  2013   61250   169543   \n",
       "2    mini                  cooper  2023   31861   221583   \n",
       "3  nissan                  altima  2016  110322    69754   \n",
       "4  toyota  land-cruiser-76-series  2020  139994    71399   \n",
       "\n",
       "              Body Type Cylinders            Transmission Fuel Type  Color  \n",
       "0                 Sedan         4  Automatic Transmission  Gasoline  Black  \n",
       "1                   SUV         4  Automatic Transmission  Gasoline   Grey  \n",
       "2  Soft Top Convertible         4  Automatic Transmission  Gasoline   Grey  \n",
       "3                 Sedan         4  Automatic Transmission  Gasoline    Red  \n",
       "4         Pick Up Truck         4     Manual Transmission  Gasoline  White  "
      ]
     },
     "execution_count": 193,
     "metadata": {},
     "output_type": "execute_result"
    }
   ],
   "source": [
    "# for price prediction of these use vehicles description of the each car is not required. \n",
    "# also the city in UAE where the car is available, does not usually influence its price\n",
    "# therefore we can remove them considering as an irrelevant features\n",
    "df=df.drop([\"Location\",\"Description\"],axis=1)\n",
    "df.head(5)"
   ]
  },
  {
   "cell_type": "markdown",
   "metadata": {},
   "source": [
    "### Handle missing values"
   ]
  },
  {
   "cell_type": "code",
   "execution_count": 173,
   "metadata": {},
   "outputs": [
    {
     "name": "stdout",
     "output_type": "stream",
     "text": [
      "Make              0\n",
      "Model             0\n",
      "Year              0\n",
      "Price             0\n",
      "Mileage           0\n",
      "Body Type         0\n",
      "Cylinders       105\n",
      "Transmission      0\n",
      "Fuel Type         0\n",
      "Color             0\n",
      "Location          0\n",
      "Description       0\n",
      "dtype: int64\n"
     ]
    }
   ],
   "source": [
    "# find missing values\n",
    "missing_values = df.isnull().sum()\n",
    "print(missing_values)\n",
    "\n",
    "# only `cylinders` feature has missing values"
   ]
  },
  {
   "cell_type": "markdown",
   "metadata": {},
   "source": [
    "#### upon manually inspecting the dataset some of the values of Cylinders feature contains 'Unknown' string value. therefore it makes sense to remove the data with 'Unknown' Cylinder values because they are not meaningful for the analysis and can lead to poor performance of prediction models."
   ]
  },
  {
   "cell_type": "code",
   "execution_count": 174,
   "metadata": {},
   "outputs": [
    {
     "name": "stdout",
     "output_type": "stream",
     "text": [
      "Cylinders\n",
      "6          3420\n",
      "8          3003\n",
      "4          2929\n",
      "12          340\n",
      "NaN         105\n",
      "3            53\n",
      "5            52\n",
      "Unknown      50\n",
      "10           48\n",
      "Name: count, dtype: int64\n"
     ]
    }
   ],
   "source": [
    "# Check the distribution of values in the Cylinders column\n",
    "cylinder_counts = df['Cylinders'].value_counts(dropna=False)\n",
    "print(cylinder_counts)"
   ]
  },
  {
   "cell_type": "code",
   "execution_count": 175,
   "metadata": {},
   "outputs": [],
   "source": [
    "# replace 'Unknown' values with NaN\n",
    "df['Cylinders'] = df['Cylinders'].replace('Unknown', float('nan'))"
   ]
  },
  {
   "cell_type": "code",
   "execution_count": 176,
   "metadata": {},
   "outputs": [
    {
     "name": "stdout",
     "output_type": "stream",
     "text": [
      "Cylinders\n",
      "6      3420\n",
      "8      3003\n",
      "4      2929\n",
      "12      340\n",
      "NaN     155\n",
      "3        53\n",
      "5        52\n",
      "10       48\n",
      "Name: count, dtype: int64\n",
      "percentage of missing values in Cylinders: 1.55\n"
     ]
    }
   ],
   "source": [
    "# Check the distribution of values in the Cylinders after replacing with NaN\n",
    "cylinder_counts = df['Cylinders'].value_counts(dropna=False)\n",
    "print(cylinder_counts)\n",
    "\n",
    "missing_percentage = (df[\"Cylinders\"].isnull().sum() / len(df)) * 100\n",
    "print(f\"percentage of missing values in Cylinders: {missing_percentage}\")"
   ]
  },
  {
   "cell_type": "markdown",
   "metadata": {},
   "source": [
    "#### since only 1.55% of data points have missing values replacing them with the mode"
   ]
  },
  {
   "cell_type": "code",
   "execution_count": 177,
   "metadata": {},
   "outputs": [],
   "source": [
    "# Find the mode of the Cylinders column\n",
    "most_common_cylinders = df['Cylinders'].mode()[0]\n",
    "\n",
    "# Replace missing values with the mode\n",
    "df['Cylinders'] = df['Cylinders'].fillna(most_common_cylinders)"
   ]
  },
  {
   "cell_type": "code",
   "execution_count": 178,
   "metadata": {},
   "outputs": [
    {
     "name": "stdout",
     "output_type": "stream",
     "text": [
      "Make            0\n",
      "Model           0\n",
      "Year            0\n",
      "Price           0\n",
      "Mileage         0\n",
      "Body Type       0\n",
      "Cylinders       0\n",
      "Transmission    0\n",
      "Fuel Type       0\n",
      "Color           0\n",
      "Location        0\n",
      "Description     0\n",
      "dtype: int64\n"
     ]
    }
   ],
   "source": [
    "# confirm there are no missing values\n",
    "missing_values = df.isnull().sum()\n",
    "print(missing_values)"
   ]
  },
  {
   "cell_type": "code",
   "execution_count": 179,
   "metadata": {},
   "outputs": [
    {
     "name": "stdout",
     "output_type": "stream",
     "text": [
      "<class 'pandas.core.frame.DataFrame'>\n",
      "RangeIndex: 10000 entries, 0 to 9999\n",
      "Data columns (total 12 columns):\n",
      " #   Column        Non-Null Count  Dtype  \n",
      "---  ------        --------------  -----  \n",
      " 0   Make          10000 non-null  object \n",
      " 1   Model         10000 non-null  object \n",
      " 2   Year          10000 non-null  int64  \n",
      " 3   Price         10000 non-null  float64\n",
      " 4   Mileage       10000 non-null  int64  \n",
      " 5   Body Type     10000 non-null  object \n",
      " 6   Cylinders     10000 non-null  object \n",
      " 7   Transmission  10000 non-null  object \n",
      " 8   Fuel Type     10000 non-null  object \n",
      " 9   Color         10000 non-null  object \n",
      " 10  Location      10000 non-null  object \n",
      " 11  Description   10000 non-null  object \n",
      "dtypes: float64(1), int64(2), object(9)\n",
      "memory usage: 937.6+ KB\n"
     ]
    }
   ],
   "source": [
    "# convert prices to float\n",
    "df[\"Price\"]=df[\"Price\"].astype(float)\n",
    "df.info()"
   ]
  },
  {
   "cell_type": "markdown",
   "metadata": {},
   "source": [
    "### Remove duplicates"
   ]
  },
  {
   "cell_type": "code",
   "execution_count": 180,
   "metadata": {},
   "outputs": [
    {
     "name": "stdout",
     "output_type": "stream",
     "text": [
      "0\n"
     ]
    }
   ],
   "source": [
    "# check for duplicates\n",
    "print(df.duplicated().sum())"
   ]
  },
  {
   "cell_type": "markdown",
   "metadata": {},
   "source": [
    "### Feature Engineering"
   ]
  },
  {
   "cell_type": "code",
   "execution_count": 181,
   "metadata": {},
   "outputs": [],
   "source": [
    "# In the business sense, as a car gets older, it generally experiences more wear and tear, which can affect its resale value. Older cars tend to have lower prices compared to newer ones, even if they have similar mileage or features. Therefore Car age is often a strong predictor of price for used vehicles.\n",
    "\n",
    "df['Car Age'] = 2025 - df['Year']"
   ]
  },
  {
   "cell_type": "code",
   "execution_count": 182,
   "metadata": {},
   "outputs": [
    {
     "data": {
      "text/html": [
       "<div>\n",
       "<style scoped>\n",
       "    .dataframe tbody tr th:only-of-type {\n",
       "        vertical-align: middle;\n",
       "    }\n",
       "\n",
       "    .dataframe tbody tr th {\n",
       "        vertical-align: top;\n",
       "    }\n",
       "\n",
       "    .dataframe thead th {\n",
       "        text-align: right;\n",
       "    }\n",
       "</style>\n",
       "<table border=\"1\" class=\"dataframe\">\n",
       "  <thead>\n",
       "    <tr style=\"text-align: right;\">\n",
       "      <th></th>\n",
       "      <th>Make</th>\n",
       "      <th>Model</th>\n",
       "      <th>Year</th>\n",
       "      <th>Price</th>\n",
       "      <th>Mileage</th>\n",
       "      <th>Body Type</th>\n",
       "      <th>Cylinders</th>\n",
       "      <th>Transmission</th>\n",
       "      <th>Fuel Type</th>\n",
       "      <th>Color</th>\n",
       "      <th>Location</th>\n",
       "      <th>Description</th>\n",
       "      <th>Car Age</th>\n",
       "    </tr>\n",
       "  </thead>\n",
       "  <tbody>\n",
       "    <tr>\n",
       "      <th>0</th>\n",
       "      <td>toyota</td>\n",
       "      <td>camry</td>\n",
       "      <td>2016</td>\n",
       "      <td>47819.0</td>\n",
       "      <td>156500</td>\n",
       "      <td>Sedan</td>\n",
       "      <td>4</td>\n",
       "      <td>Automatic Transmission</td>\n",
       "      <td>Gasoline</td>\n",
       "      <td>Black</td>\n",
       "      <td>Dubai</td>\n",
       "      <td>2016 toyota camry with Rear camera, Leather se...</td>\n",
       "      <td>9</td>\n",
       "    </tr>\n",
       "    <tr>\n",
       "      <th>1</th>\n",
       "      <td>kia</td>\n",
       "      <td>sorento</td>\n",
       "      <td>2013</td>\n",
       "      <td>61250.0</td>\n",
       "      <td>169543</td>\n",
       "      <td>SUV</td>\n",
       "      <td>4</td>\n",
       "      <td>Automatic Transmission</td>\n",
       "      <td>Gasoline</td>\n",
       "      <td>Grey</td>\n",
       "      <td>Abu Dhabi</td>\n",
       "      <td>2013 kia sorento with Sunroof, Adaptive cruise...</td>\n",
       "      <td>12</td>\n",
       "    </tr>\n",
       "    <tr>\n",
       "      <th>2</th>\n",
       "      <td>mini</td>\n",
       "      <td>cooper</td>\n",
       "      <td>2023</td>\n",
       "      <td>31861.0</td>\n",
       "      <td>221583</td>\n",
       "      <td>Soft Top Convertible</td>\n",
       "      <td>4</td>\n",
       "      <td>Automatic Transmission</td>\n",
       "      <td>Gasoline</td>\n",
       "      <td>Grey</td>\n",
       "      <td>Dubai</td>\n",
       "      <td>2023 mini cooper with Adaptive cruise control,...</td>\n",
       "      <td>2</td>\n",
       "    </tr>\n",
       "    <tr>\n",
       "      <th>3</th>\n",
       "      <td>nissan</td>\n",
       "      <td>altima</td>\n",
       "      <td>2016</td>\n",
       "      <td>110322.0</td>\n",
       "      <td>69754</td>\n",
       "      <td>Sedan</td>\n",
       "      <td>4</td>\n",
       "      <td>Automatic Transmission</td>\n",
       "      <td>Gasoline</td>\n",
       "      <td>Red</td>\n",
       "      <td>Dubai</td>\n",
       "      <td>2016 nissan altima with Rear camera, Adaptive ...</td>\n",
       "      <td>9</td>\n",
       "    </tr>\n",
       "    <tr>\n",
       "      <th>4</th>\n",
       "      <td>toyota</td>\n",
       "      <td>land-cruiser-76-series</td>\n",
       "      <td>2020</td>\n",
       "      <td>139994.0</td>\n",
       "      <td>71399</td>\n",
       "      <td>Pick Up Truck</td>\n",
       "      <td>4</td>\n",
       "      <td>Manual Transmission</td>\n",
       "      <td>Gasoline</td>\n",
       "      <td>White</td>\n",
       "      <td>Dubai</td>\n",
       "      <td>2020 toyota land-cruiser-76-series with Adapti...</td>\n",
       "      <td>5</td>\n",
       "    </tr>\n",
       "  </tbody>\n",
       "</table>\n",
       "</div>"
      ],
      "text/plain": [
       "     Make                   Model  Year     Price  Mileage  \\\n",
       "0  toyota                   camry  2016   47819.0   156500   \n",
       "1     kia                 sorento  2013   61250.0   169543   \n",
       "2    mini                  cooper  2023   31861.0   221583   \n",
       "3  nissan                  altima  2016  110322.0    69754   \n",
       "4  toyota  land-cruiser-76-series  2020  139994.0    71399   \n",
       "\n",
       "              Body Type Cylinders            Transmission Fuel Type  Color  \\\n",
       "0                 Sedan         4  Automatic Transmission  Gasoline  Black   \n",
       "1                   SUV         4  Automatic Transmission  Gasoline   Grey   \n",
       "2  Soft Top Convertible         4  Automatic Transmission  Gasoline   Grey   \n",
       "3                 Sedan         4  Automatic Transmission  Gasoline    Red   \n",
       "4         Pick Up Truck         4     Manual Transmission  Gasoline  White   \n",
       "\n",
       "     Location                                        Description  Car Age  \n",
       "0       Dubai  2016 toyota camry with Rear camera, Leather se...        9  \n",
       "1   Abu Dhabi  2013 kia sorento with Sunroof, Adaptive cruise...       12  \n",
       "2       Dubai  2023 mini cooper with Adaptive cruise control,...        2  \n",
       "3       Dubai  2016 nissan altima with Rear camera, Adaptive ...        9  \n",
       "4       Dubai  2020 toyota land-cruiser-76-series with Adapti...        5  "
      ]
     },
     "execution_count": 182,
     "metadata": {},
     "output_type": "execute_result"
    }
   ],
   "source": [
    "df.head()"
   ]
  },
  {
   "cell_type": "code",
   "execution_count": 195,
   "metadata": {},
   "outputs": [
    {
     "data": {
      "image/png": "[encoded data removed]",
      "text/plain": [
       "<Figure size 800x600 with 1 Axes>"
      ]
     },
     "metadata": {},
     "output_type": "display_data"
    }
   ],
   "source": [
    "import seaborn as sns\n",
    "import matplotlib.pyplot as plt\n",
    "\n",
    "# Plot the original price distribution\n",
    "plt.figure(figsize=(8, 6))\n",
    "sns.histplot(df['Price'], kde=True)\n",
    "plt.title('Original Price Distribution')\n",
    "plt.xlabel('Price')\n",
    "plt.ylabel('Frequency')\n",
    "plt.show()"
   ]
  },
  {
   "cell_type": "markdown",
   "metadata": {},
   "source": [
    "#### As you can see the distribution of car prices is right-skewed, with a some extremely high values."
   ]
  },
  {
   "cell_type": "code",
   "execution_count": null,
   "metadata": {},
   "outputs": [],
   "source": [
    "# pre processing steps\n",
    "# 1) handle missing values\n",
    "# 2) remove duplicates\n",
    "# 3) handle outliers\n",
    "# 4) Feature Engineering\n",
    "# 5) encode categorical variables\n",
    "# 6) normalize numerical features\n",
    "# 7) remove irrelevant columns"
   ]
  },
  {
   "cell_type": "code",
   "execution_count": null,
   "metadata": {},
   "outputs": [],
   "source": [
    "df=df.drop([\"Location\",\"Description\"],axis=1)\n",
    "df.head(5)"
   ]
  }
 ],
 "metadata": {
  "kernelspec": {
   "display_name": "env",
   "language": "python",
   "name": "python3"
  },
  "language_info": {
   "codemirror_mode": {
    "name": "ipython",
    "version": 3
   },
   "file_extension": ".py",
   "mimetype": "text/x-python",
   "name": "python",
   "nbconvert_exporter": "python",
   "pygments_lexer": "ipython3",
   "version": "3.11.0"
  }
 },
 "nbformat": 4,
 "nbformat_minor": 2
}
