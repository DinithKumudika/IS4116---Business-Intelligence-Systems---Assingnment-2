{
 "cells": [
  {
   "cell_type": "code",
   "execution_count": 2,
   "metadata": {},
   "outputs": [
    {
     "data": {
      "text/plain": [
       "True"
      ]
     },
     "execution_count": 2,
     "metadata": {},
     "output_type": "execute_result"
    }
   ],
   "source": [
    "import os\n",
    "from dotenv import load_dotenv\n",
    "\n",
    "# Load environment variables from .env file\n",
    "load_dotenv()"
   ]
  },
  {
   "cell_type": "code",
   "execution_count": 3,
   "metadata": {},
   "outputs": [],
   "source": [
    "KAGGLE_USERNAME = os.getenv(\"KAGGLE_USERNAME\")\n",
    "KAGGLE_KEY = os.getenv(\"KAGGLE_KEY\")"
   ]
  },
  {
   "cell_type": "code",
   "execution_count": 5,
   "metadata": {},
   "outputs": [],
   "source": [
    "os.environ['KAGGLE_USERNAME'] = KAGGLE_USERNAME\n",
    "os.environ['KAGGLE_KEY'] = KAGGLE_KEY"
   ]
  },
  {
   "cell_type": "code",
   "execution_count": 10,
   "metadata": {},
   "outputs": [
    {
     "name": "stdout",
     "output_type": "stream",
     "text": [
      "Download already complete (1887464 bytes).\n"
     ]
    }
   ],
   "source": [
    "import kagglehub\n",
    "from kagglehub import KaggleDatasetAdapter\n",
    "\n",
    "# download dataset from kaggle and load it to a dataframe\n",
    "df = kagglehub.load_dataset(\n",
    "     KaggleDatasetAdapter.PANDAS,\n",
    "     \"alikalwar/uae-used-car-prices-and-features-10k-listings\",\n",
    "     \"uae_used_cars_10k.csv\",\n",
    ")"
   ]
  },
  {
   "cell_type": "code",
   "execution_count": 11,
   "metadata": {},
   "outputs": [
    {
     "data": {
      "text/html": [
       "<div>\n",
       "<style scoped>\n",
       "    .dataframe tbody tr th:only-of-type {\n",
       "        vertical-align: middle;\n",
       "    }\n",
       "\n",
       "    .dataframe tbody tr th {\n",
       "        vertical-align: top;\n",
       "    }\n",
       "\n",
       "    .dataframe thead th {\n",
       "        text-align: right;\n",
       "    }\n",
       "</style>\n",
       "<table border=\"1\" class=\"dataframe\">\n",
       "  <thead>\n",
       "    <tr style=\"text-align: right;\">\n",
       "      <th></th>\n",
       "      <th>Make</th>\n",
       "      <th>Model</th>\n",
       "      <th>Year</th>\n",
       "      <th>Price</th>\n",
       "      <th>Mileage</th>\n",
       "      <th>Body Type</th>\n",
       "      <th>Cylinders</th>\n",
       "      <th>Transmission</th>\n",
       "      <th>Fuel Type</th>\n",
       "      <th>Color</th>\n",
       "      <th>Location</th>\n",
       "      <th>Description</th>\n",
       "    </tr>\n",
       "  </thead>\n",
       "  <tbody>\n",
       "    <tr>\n",
       "      <th>0</th>\n",
       "      <td>toyota</td>\n",
       "      <td>camry</td>\n",
       "      <td>2016</td>\n",
       "      <td>47819</td>\n",
       "      <td>156500</td>\n",
       "      <td>Sedan</td>\n",
       "      <td>4</td>\n",
       "      <td>Automatic Transmission</td>\n",
       "      <td>Gasoline</td>\n",
       "      <td>Black</td>\n",
       "      <td>Dubai</td>\n",
       "      <td>2016 toyota camry with Rear camera, Leather se...</td>\n",
       "    </tr>\n",
       "    <tr>\n",
       "      <th>1</th>\n",
       "      <td>kia</td>\n",
       "      <td>sorento</td>\n",
       "      <td>2013</td>\n",
       "      <td>61250</td>\n",
       "      <td>169543</td>\n",
       "      <td>SUV</td>\n",
       "      <td>4</td>\n",
       "      <td>Automatic Transmission</td>\n",
       "      <td>Gasoline</td>\n",
       "      <td>Grey</td>\n",
       "      <td>Abu Dhabi</td>\n",
       "      <td>2013 kia sorento with Sunroof, Adaptive cruise...</td>\n",
       "    </tr>\n",
       "    <tr>\n",
       "      <th>2</th>\n",
       "      <td>mini</td>\n",
       "      <td>cooper</td>\n",
       "      <td>2023</td>\n",
       "      <td>31861</td>\n",
       "      <td>221583</td>\n",
       "      <td>Soft Top Convertible</td>\n",
       "      <td>4</td>\n",
       "      <td>Automatic Transmission</td>\n",
       "      <td>Gasoline</td>\n",
       "      <td>Grey</td>\n",
       "      <td>Dubai</td>\n",
       "      <td>2023 mini cooper with Adaptive cruise control,...</td>\n",
       "    </tr>\n",
       "    <tr>\n",
       "      <th>3</th>\n",
       "      <td>nissan</td>\n",
       "      <td>altima</td>\n",
       "      <td>2016</td>\n",
       "      <td>110322</td>\n",
       "      <td>69754</td>\n",
       "      <td>Sedan</td>\n",
       "      <td>4</td>\n",
       "      <td>Automatic Transmission</td>\n",
       "      <td>Gasoline</td>\n",
       "      <td>Red</td>\n",
       "      <td>Dubai</td>\n",
       "      <td>2016 nissan altima with Rear camera, Adaptive ...</td>\n",
       "    </tr>\n",
       "    <tr>\n",
       "      <th>4</th>\n",
       "      <td>toyota</td>\n",
       "      <td>land-cruiser-76-series</td>\n",
       "      <td>2020</td>\n",
       "      <td>139994</td>\n",
       "      <td>71399</td>\n",
       "      <td>Pick Up Truck</td>\n",
       "      <td>4</td>\n",
       "      <td>Manual Transmission</td>\n",
       "      <td>Gasoline</td>\n",
       "      <td>White</td>\n",
       "      <td>Dubai</td>\n",
       "      <td>2020 toyota land-cruiser-76-series with Adapti...</td>\n",
       "    </tr>\n",
       "  </tbody>\n",
       "</table>\n",
       "</div>"
      ],
      "text/plain": [
       "     Make                   Model  Year   Price  Mileage  \\\n",
       "0  toyota                   camry  2016   47819   156500   \n",
       "1     kia                 sorento  2013   61250   169543   \n",
       "2    mini                  cooper  2023   31861   221583   \n",
       "3  nissan                  altima  2016  110322    69754   \n",
       "4  toyota  land-cruiser-76-series  2020  139994    71399   \n",
       "\n",
       "              Body Type Cylinders            Transmission Fuel Type  Color  \\\n",
       "0                 Sedan         4  Automatic Transmission  Gasoline  Black   \n",
       "1                   SUV         4  Automatic Transmission  Gasoline   Grey   \n",
       "2  Soft Top Convertible         4  Automatic Transmission  Gasoline   Grey   \n",
       "3                 Sedan         4  Automatic Transmission  Gasoline    Red   \n",
       "4         Pick Up Truck         4     Manual Transmission  Gasoline  White   \n",
       "\n",
       "     Location                                        Description  \n",
       "0       Dubai  2016 toyota camry with Rear camera, Leather se...  \n",
       "1   Abu Dhabi  2013 kia sorento with Sunroof, Adaptive cruise...  \n",
       "2       Dubai  2023 mini cooper with Adaptive cruise control,...  \n",
       "3       Dubai  2016 nissan altima with Rear camera, Adaptive ...  \n",
       "4       Dubai  2020 toyota land-cruiser-76-series with Adapti...  "
      ]
     },
     "execution_count": 11,
     "metadata": {},
     "output_type": "execute_result"
    }
   ],
   "source": [
    "df.head()"
   ]
  },
  {
   "cell_type": "code",
   "execution_count": null,
   "metadata": {},
   "outputs": [],
   "source": []
  }
 ],
 "metadata": {
  "kernelspec": {
   "display_name": "env",
   "language": "python",
   "name": "python3"
  },
  "language_info": {
   "codemirror_mode": {
    "name": "ipython",
    "version": 3
   },
   "file_extension": ".py",
   "mimetype": "text/x-python",
   "name": "python",
   "nbconvert_exporter": "python",
   "pygments_lexer": "ipython3",
   "version": "3.11.0"
  }
 },
 "nbformat": 4,
 "nbformat_minor": 2
}
